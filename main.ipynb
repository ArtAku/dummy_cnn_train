{
 "cells": [
  {
   "cell_type": "code",
   "execution_count": 1,
   "metadata": {},
   "outputs": [],
   "source": [
    "import librosa\n",
    "from librosa.feature import melspectrogram\n",
    "from librosa.core import load\n",
    "from librosa.display import specshow\n",
    "from librosa import power_to_db\n",
    "# from scipy.io.wavfile import read\n",
    "\n",
    "import matplotlib.pyplot as plt\n",
    "\n",
    "# from utils.preprocessing import extract_log_mel_feats\n",
    "# run git log чтобы посмотреть предыдущие версии кода, где не было исправлений"
   ]
  },
  {
   "cell_type": "code",
   "execution_count": 2,
   "metadata": {},
   "outputs": [],
   "source": [
    "import os\n",
    "from tqdm import tqdm\n",
    "import pickle\n",
    "import pandas as pd\n",
    "import numpy as np\n",
    "\n",
    "from librosa.feature import melspectrogram\n",
    "from librosa.core import load as load_wav\n",
    "from librosa import power_to_db\n",
    "\n",
    "\n",
    "def extract_log_mel_feats(set_type, path_to_csv, path_to_files, out_path, sr, fft_size, hop, n_mels):\n",
    "    \"\"\"\n",
    "    Extract features from given files and store them in binary format.\n",
    "\n",
    "    :param set_type:\n",
    "    :param path_to_csv: path to loaded csv\n",
    "    :param path_to_files: path to loaded data\n",
    "    :param out_path: path to store extracted features\n",
    "    :param sr: input files sample rate\n",
    "    :param fft_size: size of fft window\n",
    "    :param hop: hop size\n",
    "    :param n_mels: number of mel band\n",
    "\n",
    "    :return:\n",
    "\n",
    "    \"\"\"\n",
    "    set_type = set_type.lower()\n",
    "    if set_type not in ['train', 'test']:\n",
    "        raise Exception('Such set type not supported: {}'.format(set_type))\n",
    "\n",
    "    feats = []\n",
    "\n",
    "    if set_type == 'train':\n",
    "        meta = pd.read_csv(path_to_csv, skiprows=1, names=['fname', 'label', 'manually_verified'])\n",
    "\n",
    "        file_names = list(meta['fname'])\n",
    "        n_files = len(file_names)\n",
    "        labels = list(meta['label'])\n",
    "\n",
    "        uniq_labels = np.sort(np.unique(labels))\n",
    "        label_to_id = {label: i for i, label in enumerate(uniq_labels)}\n",
    "\n",
    "        print('Total files:', n_files)\n",
    "\n",
    "        for i, (file_name, label) in tqdm(enumerate(zip(file_names, labels))):\n",
    "            wav_data, sr = load_wav(os.path.join(path_to_files, file_name), sr=sr)\n",
    "            mel_spec = melspectrogram(wav_data, n_fft=fft_size, hop_length=hop, n_mels=n_mels, fmax=sr // 2)\n",
    "            log_mel_spec = power_to_db(mel_spec, ref=np.max)\n",
    "            feats.append({\n",
    "                'fname': file_name,\n",
    "                'feature': log_mel_spec,\n",
    "                'label_id': label_to_id[label]\n",
    "            })\n",
    "        pickle.dump(feats, open(out_path, 'wb'))    \n",
    "        return label_to_id\n",
    "    else:\n",
    "        for i, file_name in tqdm(enumerate(os.listdir(path_to_files))):\n",
    "            wav_data, sr = load_wav(os.path.join(path_to_files, file_name), sr=sr)\n",
    "            if len(wav_data) == 0:\n",
    "                # print('Empty file:', file_name)\n",
    "                wav_data = np.zeros(sr)\n",
    "            mel_spec = melspectrogram(wav_data, n_fft=fft_size, n_mels=n_mels, fmax=sr // 2)\n",
    "            log_mel_spec = power_to_db(mel_spec, ref=np.max)\n",
    "            feats.append({\n",
    "                'fname': file_name,\n",
    "                'feature': log_mel_spec,\n",
    "            })\n",
    "\n",
    "    pickle.dump(feats, open(out_path, 'wb'))"
   ]
  },
  {
   "cell_type": "code",
   "execution_count": 3,
   "metadata": {},
   "outputs": [],
   "source": [
    "train_folder = 'C:/Users/User/Desktop/University/2_semester/Analiz_audio_sobitiy_Shuranov/train'\n",
    "# test_folder = './data/audio_test/'\n",
    "\n",
    "sample_rate = 11025\n",
    "fft_size = 1024\n",
    "overlap = 4\n",
    "hop = fft_size // overlap\n",
    "mels = 64"
   ]
  },
  {
   "cell_type": "code",
   "execution_count": 9,
   "metadata": {},
   "outputs": [
    {
     "ename": "FileNotFoundError",
     "evalue": "[Errno 2] No such file or directory: 'C:/Users/User/Desktop/University/2_semester/Analiz_audio_sobitiy_Shuranov/train\\\\0a9f4e787d8d2af55683.wav'",
     "output_type": "error",
     "traceback": [
      "\u001b[1;31m---------------------------------------------------------------------------\u001b[0m",
      "\u001b[1;31mRuntimeError\u001b[0m                              Traceback (most recent call last)",
      "\u001b[1;32mC:\\ProgramData\\Anaconda3\\envs\\py37_para\\lib\\site-packages\\librosa\\core\\audio.py\u001b[0m in \u001b[0;36mload\u001b[1;34m(path, sr, mono, offset, duration, dtype, res_type)\u001b[0m\n\u001b[0;32m    128\u001b[0m     \u001b[1;32mtry\u001b[0m\u001b[1;33m:\u001b[0m\u001b[1;33m\u001b[0m\u001b[1;33m\u001b[0m\u001b[0m\n\u001b[1;32m--> 129\u001b[1;33m         \u001b[1;32mwith\u001b[0m \u001b[0msf\u001b[0m\u001b[1;33m.\u001b[0m\u001b[0mSoundFile\u001b[0m\u001b[1;33m(\u001b[0m\u001b[0mpath\u001b[0m\u001b[1;33m)\u001b[0m \u001b[1;32mas\u001b[0m \u001b[0msf_desc\u001b[0m\u001b[1;33m:\u001b[0m\u001b[1;33m\u001b[0m\u001b[1;33m\u001b[0m\u001b[0m\n\u001b[0m\u001b[0;32m    130\u001b[0m             \u001b[0msr_native\u001b[0m \u001b[1;33m=\u001b[0m \u001b[0msf_desc\u001b[0m\u001b[1;33m.\u001b[0m\u001b[0msamplerate\u001b[0m\u001b[1;33m\u001b[0m\u001b[1;33m\u001b[0m\u001b[0m\n",
      "\u001b[1;32mC:\\ProgramData\\Anaconda3\\envs\\py37_para\\lib\\site-packages\\soundfile.py\u001b[0m in \u001b[0;36m__init__\u001b[1;34m(self, file, mode, samplerate, channels, subtype, endian, format, closefd)\u001b[0m\n\u001b[0;32m    628\u001b[0m                                          format, subtype, endian)\n\u001b[1;32m--> 629\u001b[1;33m         \u001b[0mself\u001b[0m\u001b[1;33m.\u001b[0m\u001b[0m_file\u001b[0m \u001b[1;33m=\u001b[0m \u001b[0mself\u001b[0m\u001b[1;33m.\u001b[0m\u001b[0m_open\u001b[0m\u001b[1;33m(\u001b[0m\u001b[0mfile\u001b[0m\u001b[1;33m,\u001b[0m \u001b[0mmode_int\u001b[0m\u001b[1;33m,\u001b[0m \u001b[0mclosefd\u001b[0m\u001b[1;33m)\u001b[0m\u001b[1;33m\u001b[0m\u001b[1;33m\u001b[0m\u001b[0m\n\u001b[0m\u001b[0;32m    630\u001b[0m         \u001b[1;32mif\u001b[0m \u001b[0mset\u001b[0m\u001b[1;33m(\u001b[0m\u001b[0mmode\u001b[0m\u001b[1;33m)\u001b[0m\u001b[1;33m.\u001b[0m\u001b[0missuperset\u001b[0m\u001b[1;33m(\u001b[0m\u001b[1;34m'r+'\u001b[0m\u001b[1;33m)\u001b[0m \u001b[1;32mand\u001b[0m \u001b[0mself\u001b[0m\u001b[1;33m.\u001b[0m\u001b[0mseekable\u001b[0m\u001b[1;33m(\u001b[0m\u001b[1;33m)\u001b[0m\u001b[1;33m:\u001b[0m\u001b[1;33m\u001b[0m\u001b[1;33m\u001b[0m\u001b[0m\n",
      "\u001b[1;32mC:\\ProgramData\\Anaconda3\\envs\\py37_para\\lib\\site-packages\\soundfile.py\u001b[0m in \u001b[0;36m_open\u001b[1;34m(self, file, mode_int, closefd)\u001b[0m\n\u001b[0;32m   1183\u001b[0m         _error_check(_snd.sf_error(file_ptr),\n\u001b[1;32m-> 1184\u001b[1;33m                      \"Error opening {0!r}: \".format(self.name))\n\u001b[0m\u001b[0;32m   1185\u001b[0m         \u001b[1;32mif\u001b[0m \u001b[0mmode_int\u001b[0m \u001b[1;33m==\u001b[0m \u001b[0m_snd\u001b[0m\u001b[1;33m.\u001b[0m\u001b[0mSFM_WRITE\u001b[0m\u001b[1;33m:\u001b[0m\u001b[1;33m\u001b[0m\u001b[1;33m\u001b[0m\u001b[0m\n",
      "\u001b[1;32mC:\\ProgramData\\Anaconda3\\envs\\py37_para\\lib\\site-packages\\soundfile.py\u001b[0m in \u001b[0;36m_error_check\u001b[1;34m(err, prefix)\u001b[0m\n\u001b[0;32m   1356\u001b[0m         \u001b[0merr_str\u001b[0m \u001b[1;33m=\u001b[0m \u001b[0m_snd\u001b[0m\u001b[1;33m.\u001b[0m\u001b[0msf_error_number\u001b[0m\u001b[1;33m(\u001b[0m\u001b[0merr\u001b[0m\u001b[1;33m)\u001b[0m\u001b[1;33m\u001b[0m\u001b[1;33m\u001b[0m\u001b[0m\n\u001b[1;32m-> 1357\u001b[1;33m         \u001b[1;32mraise\u001b[0m \u001b[0mRuntimeError\u001b[0m\u001b[1;33m(\u001b[0m\u001b[0mprefix\u001b[0m \u001b[1;33m+\u001b[0m \u001b[0m_ffi\u001b[0m\u001b[1;33m.\u001b[0m\u001b[0mstring\u001b[0m\u001b[1;33m(\u001b[0m\u001b[0merr_str\u001b[0m\u001b[1;33m)\u001b[0m\u001b[1;33m.\u001b[0m\u001b[0mdecode\u001b[0m\u001b[1;33m(\u001b[0m\u001b[1;34m'utf-8'\u001b[0m\u001b[1;33m,\u001b[0m \u001b[1;34m'replace'\u001b[0m\u001b[1;33m)\u001b[0m\u001b[1;33m)\u001b[0m\u001b[1;33m\u001b[0m\u001b[1;33m\u001b[0m\u001b[0m\n\u001b[0m\u001b[0;32m   1358\u001b[0m \u001b[1;33m\u001b[0m\u001b[0m\n",
      "\u001b[1;31mRuntimeError\u001b[0m: Error opening 'C:/Users/User/Desktop/University/2_semester/Analiz_audio_sobitiy_Shuranov/train\\\\0a9f4e787d8d2af55683.wav': System error.",
      "\nDuring handling of the above exception, another exception occurred:\n",
      "\u001b[1;31mFileNotFoundError\u001b[0m                         Traceback (most recent call last)",
      "\u001b[1;32m<ipython-input-9-ad26f2937c9b>\u001b[0m in \u001b[0;36m<module>\u001b[1;34m\u001b[0m\n\u001b[1;32m----> 1\u001b[1;33m \u001b[0mwav_data\u001b[0m\u001b[1;33m,\u001b[0m \u001b[0msr\u001b[0m \u001b[1;33m=\u001b[0m \u001b[0mload\u001b[0m\u001b[1;33m(\u001b[0m\u001b[0mos\u001b[0m\u001b[1;33m.\u001b[0m\u001b[0mpath\u001b[0m\u001b[1;33m.\u001b[0m\u001b[0mjoin\u001b[0m\u001b[1;33m(\u001b[0m\u001b[0mtrain_folder\u001b[0m\u001b[1;33m,\u001b[0m \u001b[1;34m'0a9f4e787d8d2af55683.wav'\u001b[0m\u001b[1;33m)\u001b[0m\u001b[1;33m,\u001b[0m \u001b[0msr\u001b[0m\u001b[1;33m=\u001b[0m\u001b[0msample_rate\u001b[0m\u001b[1;33m)\u001b[0m\u001b[1;33m\u001b[0m\u001b[1;33m\u001b[0m\u001b[0m\n\u001b[0m\u001b[0;32m      2\u001b[0m mel_spec = melspectrogram(wav_data, n_fft=fft_size, hop_length=hop, n_mels=mels, \n\u001b[0;32m      3\u001b[0m                           fmax=sample_rate//2)\n\u001b[0;32m      4\u001b[0m \u001b[1;33m\u001b[0m\u001b[0m\n\u001b[0;32m      5\u001b[0m \u001b[0mplt\u001b[0m\u001b[1;33m.\u001b[0m\u001b[0mfigure\u001b[0m\u001b[1;33m(\u001b[0m\u001b[0mfigsize\u001b[0m\u001b[1;33m=\u001b[0m\u001b[1;33m(\u001b[0m\u001b[1;36m10\u001b[0m\u001b[1;33m,\u001b[0m \u001b[1;36m4\u001b[0m\u001b[1;33m)\u001b[0m\u001b[1;33m)\u001b[0m\u001b[1;33m\u001b[0m\u001b[1;33m\u001b[0m\u001b[0m\n",
      "\u001b[1;32mC:\\ProgramData\\Anaconda3\\envs\\py37_para\\lib\\site-packages\\librosa\\core\\audio.py\u001b[0m in \u001b[0;36mload\u001b[1;34m(path, sr, mono, offset, duration, dtype, res_type)\u001b[0m\n\u001b[0;32m    160\u001b[0m         \u001b[1;32mif\u001b[0m \u001b[0misinstance\u001b[0m\u001b[1;33m(\u001b[0m\u001b[0mpath\u001b[0m\u001b[1;33m,\u001b[0m \u001b[0msix\u001b[0m\u001b[1;33m.\u001b[0m\u001b[0mstring_types\u001b[0m\u001b[1;33m)\u001b[0m\u001b[1;33m:\u001b[0m\u001b[1;33m\u001b[0m\u001b[1;33m\u001b[0m\u001b[0m\n\u001b[0;32m    161\u001b[0m             \u001b[0mwarnings\u001b[0m\u001b[1;33m.\u001b[0m\u001b[0mwarn\u001b[0m\u001b[1;33m(\u001b[0m\u001b[1;34m'PySoundFile failed. Trying audioread instead.'\u001b[0m\u001b[1;33m)\u001b[0m\u001b[1;33m\u001b[0m\u001b[1;33m\u001b[0m\u001b[0m\n\u001b[1;32m--> 162\u001b[1;33m             \u001b[0my\u001b[0m\u001b[1;33m,\u001b[0m \u001b[0msr_native\u001b[0m \u001b[1;33m=\u001b[0m \u001b[0m__audioread_load\u001b[0m\u001b[1;33m(\u001b[0m\u001b[0mpath\u001b[0m\u001b[1;33m,\u001b[0m \u001b[0moffset\u001b[0m\u001b[1;33m,\u001b[0m \u001b[0mduration\u001b[0m\u001b[1;33m,\u001b[0m \u001b[0mdtype\u001b[0m\u001b[1;33m)\u001b[0m\u001b[1;33m\u001b[0m\u001b[1;33m\u001b[0m\u001b[0m\n\u001b[0m\u001b[0;32m    163\u001b[0m         \u001b[1;32melse\u001b[0m\u001b[1;33m:\u001b[0m\u001b[1;33m\u001b[0m\u001b[1;33m\u001b[0m\u001b[0m\n\u001b[0;32m    164\u001b[0m             \u001b[0msix\u001b[0m\u001b[1;33m.\u001b[0m\u001b[0mreraise\u001b[0m\u001b[1;33m(\u001b[0m\u001b[1;33m*\u001b[0m\u001b[0msys\u001b[0m\u001b[1;33m.\u001b[0m\u001b[0mexc_info\u001b[0m\u001b[1;33m(\u001b[0m\u001b[1;33m)\u001b[0m\u001b[1;33m)\u001b[0m\u001b[1;33m\u001b[0m\u001b[1;33m\u001b[0m\u001b[0m\n",
      "\u001b[1;32mC:\\ProgramData\\Anaconda3\\envs\\py37_para\\lib\\site-packages\\librosa\\core\\audio.py\u001b[0m in \u001b[0;36m__audioread_load\u001b[1;34m(path, offset, duration, dtype)\u001b[0m\n\u001b[0;32m    184\u001b[0m \u001b[1;33m\u001b[0m\u001b[0m\n\u001b[0;32m    185\u001b[0m     \u001b[0my\u001b[0m \u001b[1;33m=\u001b[0m \u001b[1;33m[\u001b[0m\u001b[1;33m]\u001b[0m\u001b[1;33m\u001b[0m\u001b[1;33m\u001b[0m\u001b[0m\n\u001b[1;32m--> 186\u001b[1;33m     \u001b[1;32mwith\u001b[0m \u001b[0maudioread\u001b[0m\u001b[1;33m.\u001b[0m\u001b[0maudio_open\u001b[0m\u001b[1;33m(\u001b[0m\u001b[0mpath\u001b[0m\u001b[1;33m)\u001b[0m \u001b[1;32mas\u001b[0m \u001b[0minput_file\u001b[0m\u001b[1;33m:\u001b[0m\u001b[1;33m\u001b[0m\u001b[1;33m\u001b[0m\u001b[0m\n\u001b[0m\u001b[0;32m    187\u001b[0m         \u001b[0msr_native\u001b[0m \u001b[1;33m=\u001b[0m \u001b[0minput_file\u001b[0m\u001b[1;33m.\u001b[0m\u001b[0msamplerate\u001b[0m\u001b[1;33m\u001b[0m\u001b[1;33m\u001b[0m\u001b[0m\n\u001b[0;32m    188\u001b[0m         \u001b[0mn_channels\u001b[0m \u001b[1;33m=\u001b[0m \u001b[0minput_file\u001b[0m\u001b[1;33m.\u001b[0m\u001b[0mchannels\u001b[0m\u001b[1;33m\u001b[0m\u001b[1;33m\u001b[0m\u001b[0m\n",
      "\u001b[1;32mC:\\ProgramData\\Anaconda3\\envs\\py37_para\\lib\\site-packages\\audioread\\__init__.py\u001b[0m in \u001b[0;36maudio_open\u001b[1;34m(path, backends)\u001b[0m\n\u001b[0;32m    109\u001b[0m     \u001b[1;32mfor\u001b[0m \u001b[0mBackendClass\u001b[0m \u001b[1;32min\u001b[0m \u001b[0mbackends\u001b[0m\u001b[1;33m:\u001b[0m\u001b[1;33m\u001b[0m\u001b[1;33m\u001b[0m\u001b[0m\n\u001b[0;32m    110\u001b[0m         \u001b[1;32mtry\u001b[0m\u001b[1;33m:\u001b[0m\u001b[1;33m\u001b[0m\u001b[1;33m\u001b[0m\u001b[0m\n\u001b[1;32m--> 111\u001b[1;33m             \u001b[1;32mreturn\u001b[0m \u001b[0mBackendClass\u001b[0m\u001b[1;33m(\u001b[0m\u001b[0mpath\u001b[0m\u001b[1;33m)\u001b[0m\u001b[1;33m\u001b[0m\u001b[1;33m\u001b[0m\u001b[0m\n\u001b[0m\u001b[0;32m    112\u001b[0m         \u001b[1;32mexcept\u001b[0m \u001b[0mDecodeError\u001b[0m\u001b[1;33m:\u001b[0m\u001b[1;33m\u001b[0m\u001b[1;33m\u001b[0m\u001b[0m\n\u001b[0;32m    113\u001b[0m             \u001b[1;32mpass\u001b[0m\u001b[1;33m\u001b[0m\u001b[1;33m\u001b[0m\u001b[0m\n",
      "\u001b[1;32mC:\\ProgramData\\Anaconda3\\envs\\py37_para\\lib\\site-packages\\audioread\\rawread.py\u001b[0m in \u001b[0;36m__init__\u001b[1;34m(self, filename)\u001b[0m\n\u001b[0;32m     60\u001b[0m     \"\"\"\n\u001b[0;32m     61\u001b[0m     \u001b[1;32mdef\u001b[0m \u001b[0m__init__\u001b[0m\u001b[1;33m(\u001b[0m\u001b[0mself\u001b[0m\u001b[1;33m,\u001b[0m \u001b[0mfilename\u001b[0m\u001b[1;33m)\u001b[0m\u001b[1;33m:\u001b[0m\u001b[1;33m\u001b[0m\u001b[1;33m\u001b[0m\u001b[0m\n\u001b[1;32m---> 62\u001b[1;33m         \u001b[0mself\u001b[0m\u001b[1;33m.\u001b[0m\u001b[0m_fh\u001b[0m \u001b[1;33m=\u001b[0m \u001b[0mopen\u001b[0m\u001b[1;33m(\u001b[0m\u001b[0mfilename\u001b[0m\u001b[1;33m,\u001b[0m \u001b[1;34m'rb'\u001b[0m\u001b[1;33m)\u001b[0m\u001b[1;33m\u001b[0m\u001b[1;33m\u001b[0m\u001b[0m\n\u001b[0m\u001b[0;32m     63\u001b[0m \u001b[1;33m\u001b[0m\u001b[0m\n\u001b[0;32m     64\u001b[0m         \u001b[1;32mtry\u001b[0m\u001b[1;33m:\u001b[0m\u001b[1;33m\u001b[0m\u001b[1;33m\u001b[0m\u001b[0m\n",
      "\u001b[1;31mFileNotFoundError\u001b[0m: [Errno 2] No such file or directory: 'C:/Users/User/Desktop/University/2_semester/Analiz_audio_sobitiy_Shuranov/train\\\\0a9f4e787d8d2af55683.wav'"
     ]
    }
   ],
   "source": [
    "wav_data, sr = load(os.path.join(train_folder, '0a9f4e787d8d2af55683.wav'), sr=sample_rate)\n",
    "mel_spec = melspectrogram(wav_data, n_fft=fft_size, hop_length=hop, n_mels=mels, \n",
    "                          fmax=sample_rate//2)\n",
    "\n",
    "plt.figure(figsize=(10, 4))\n",
    "colors = 'viridis'\n",
    "specshow(mel_spec, y_axis='mel', fmax=sample_rate//2, x_axis='time', cmap=colors)\n",
    "plt.colorbar(format='%+2.0f дБ')\n",
    "plt.title('Мелспектрограмма')\n",
    "plt.tight_layout()\n",
    "plt.show()\n",
    "\n",
    "plt.figure(figsize=(10, 4))\n",
    "specshow(power_to_db(mel_spec, ref=np.max), y_axis='mel',\n",
    "         fmax=sample_rate//2, x_axis='time', cmap=colors)\n",
    "plt.colorbar(format='%+2.0f дБ')\n",
    "plt.title('Логарифм мелспектрограммы')\n",
    "plt.tight_layout()\n",
    "plt.show()"
   ]
  },
  {
   "cell_type": "code",
   "execution_count": 5,
   "metadata": {},
   "outputs": [
    {
     "name": "stderr",
     "output_type": "stream",
     "text": [
      "\r",
      "0it [00:00, ?it/s]"
     ]
    },
    {
     "name": "stdout",
     "output_type": "stream",
     "text": [
      "Total files: 5683\n"
     ]
    },
    {
     "name": "stderr",
     "output_type": "stream",
     "text": [
      "5683it [26:03,  3.63it/s]\n"
     ]
    }
   ],
   "source": [
    "path_to_csv = os.path.join('C:/Users/User/Desktop/University/2_semester/Analiz_audio_sobitiy_Shuranov', 'train.csv')\n",
    "\n",
    "pickle_train_path = os.path.join('C:/Users/User/Desktop/University/2_semester\\Analiz_audio_sobitiy_Shuranov/features/train.pickle')\n",
    "# pickle_test_path = os.path.join('./data', 'test.pickle')\n",
    "\n",
    "label_to_id = extract_log_mel_feats('train', path_to_csv, train_folder, pickle_train_path, sample_rate, fft_size, hop, mels)\n",
    "\n",
    "id_to_label = [label for label, i in label_to_id.items()]\n",
    "\n",
    "# extract_log_mel_feats('test', '', test_folder, pickle_test_path, sample_rate, fft_size, hop, mels)"
   ]
  },
  {
   "cell_type": "code",
   "execution_count": 4,
   "metadata": {},
   "outputs": [],
   "source": [
    "import numpy as np\n",
    "import pandas as pd\n",
    "import soundfile as sf\n",
    "import torch.nn.functional as F\n",
    "import torch.nn as nn\n",
    "import torch\n",
    "\n",
    "\n",
    "class DummyNetwork(nn.Module):\n",
    "    def __init__(self):\n",
    "        super(DummyNetwork, self).__init__()\n",
    "        \n",
    "        self.conv1 = nn.Conv2d(in_channels=1, out_channels=64, kernel_size=5, stride=(2, 2))\n",
    "        self.conv2 = nn.Conv2d(in_channels=64, out_channels=96, kernel_size=3, stride=(1, 1))\n",
    "        self.conv3 = nn.Conv2d(in_channels=96, out_channels=64, kernel_size=3, stride=(1, 1))\n",
    "        \n",
    "        self.mp = nn.MaxPool2d(kernel_size=(2, 2), stride=(1, 1))\n",
    "        \n",
    "        self.dropout1 = nn.Dropout(p=0.3)\n",
    "        self.dropout2 = nn.Dropout(p=0.3)\n",
    "        self.dropout3 = nn.Dropout(p=0.3)\n",
    "        \n",
    "        self.bn1 = nn.BatchNorm2d(num_features=64)\n",
    "        self.bn2 = nn.BatchNorm2d(num_features=96)\n",
    "        self.bn3 = nn.BatchNorm2d(num_features=64)\n",
    "        \n",
    "        self.flat = nn.Flatten()\n",
    "        \n",
    "        # 33856 - должно соответствовать форме self.flat\n",
    "        self.fc1 = nn.Linear(33856, 10000)\n",
    "        self.fc2 = nn.Linear(10000, 1500)\n",
    "        self.fc3 = nn.Linear(1500, 41)\n",
    "\n",
    "    def forward(self, x):\n",
    "        x = self.conv1(x)\n",
    "        x = self.bn1(x)\n",
    "        x = F.relu(x)\n",
    "        x = self.mp(x)\n",
    "        x = self.dropout1(x)\n",
    "        \n",
    "        x = self.conv2(x)\n",
    "        x = self.bn2(x)\n",
    "        x = F.relu(x)\n",
    "        x = self.mp(x)\n",
    "        x = self.dropout2(x)\n",
    "        \n",
    "        x = self.conv3(x)\n",
    "        x = self.bn3(x)\n",
    "        x = F.relu(x)\n",
    "        x = self.mp(x)\n",
    "        x = self.dropout3(x)\n",
    "        \n",
    "        x = self.flat(x)\n",
    "        # здесь можно еще добавить полносвязных слой или слои\n",
    "        x = F.relu(self.fc1(x))\n",
    "        x = F.relu(self.fc2(x))\n",
    "        x = F.softmax(self.fc3(x))\n",
    "        return x\n"
   ]
  },
  {
   "cell_type": "code",
   "execution_count": 7,
   "metadata": {},
   "outputs": [
    {
     "name": "stdout",
     "output_type": "stream",
     "text": [
      "tensor([[-0.1292,  0.1690,  0.0666, -0.2297, -0.2979, -0.1531,  0.1789,  0.1988,\n",
      "          0.0861, -0.1291,  0.2188,  0.4426, -0.0743,  0.2418, -0.0452,  0.1130,\n",
      "         -0.3348, -0.6036,  0.0438, -0.2706, -0.2199,  0.9154, -0.1209, -0.0307,\n",
      "          0.2377,  0.2455,  0.3368, -0.1873, -0.0804,  0.0252,  0.5362, -0.2360,\n",
      "         -0.2066,  0.0994, -0.0305, -0.2336, -0.0318, -0.4220,  0.8544, -0.3732,\n",
      "          0.2789]], grad_fn=<AddmmBackward>)\n"
     ]
    }
   ],
   "source": [
    "random_input = torch.randn(1, 1, 64, 64, requires_grad=True)\n",
    "network = DummyNetwork()\n",
    "output = network(random_input)\n",
    "print(output)"
   ]
  },
  {
   "cell_type": "code",
   "execution_count": null,
   "metadata": {},
   "outputs": [
    {
     "name": "stdout",
     "output_type": "stream",
     "text": [
      "3.646657943725586\n"
     ]
    }
   ],
   "source": [
    "import torch.optim as optim\n",
    "\n",
    "\n",
    "criterion = nn.CrossEntropyLoss()\n",
    "\n",
    "optimizer = optim.Adam(network.parameters(), lr=0.001)\n",
    "optimizer.zero_grad()\n",
    "\n",
    "random_input = torch.randn(3, 1, 64, 64, requires_grad=True)\n",
    "\n",
    "output = network(random_input)\n",
    "target = torch.empty(3, dtype=torch.long).random_(5)\n",
    "\n",
    "loss = criterion(output, target)\n",
    "\n",
    "print(loss.item())\n",
    "\n",
    "loss.backward()\n",
    "optimizer.step() "
   ]
  },
  {
   "cell_type": "code",
   "execution_count": 6,
   "metadata": {},
   "outputs": [],
   "source": [
    "import pickle\n",
    "pickle_train_path = os.path.join('C:/Users/User/Desktop/University/2_semester\\Analiz_audio_sobitiy_Shuranov/features/train.pickle')\n",
    "pickle_train_data = pickle.load(open(pickle_train_path, 'rb'))"
   ]
  },
  {
   "cell_type": "code",
   "execution_count": 7,
   "metadata": {},
   "outputs": [],
   "source": [
    "def prepare_shape(feature):\n",
    "    tmp = feature\n",
    "    N = 64 # размер во времени (можно увеличить, должно стать лучше)\n",
    "    while tmp.shape[1] < N:\n",
    "        # можно попробовать сделать np.pad для коротких файлов, вместо повторения до необходимой длины\n",
    "        tmp = np.hstack((tmp, tmp))\n",
    "    # случайный сдвиг должен улучшить результат (для этого нужно функцию перенести в EventDetectionDataset)\n",
    "    tmp = tmp[np.newaxis, :, :N]\n",
    "    return tmp"
   ]
  },
  {
   "cell_type": "code",
   "execution_count": 9,
   "metadata": {},
   "outputs": [],
   "source": [
    "from sklearn.model_selection import train_test_split\n",
    "# можно улучшить, используя сбалансированное валидационное множество\n",
    "# гуглить stratified train test split sklearn\n",
    "validation_set_size = 800\n",
    "\n",
    "x = []\n",
    "y = []\n",
    "\n",
    "for i, row in enumerate(pickle_train_data):\n",
    "    x.append(prepare_shape(row['feature']))\n",
    "    y.append(row['label_id'])\n",
    "    feature = prepare_shape(row['feature'])\n",
    "        \n",
    "\n",
    "x_tr, x_val, y_tr, y_val = train_test_split(x, y, stratify=y, test_size=0.2, random_state=42)"
   ]
  },
  {
   "cell_type": "code",
   "execution_count": 10,
   "metadata": {},
   "outputs": [],
   "source": [
    "from torch.utils.data import Dataset\n",
    "\n",
    "\n",
    "class EventDetectionDataset(Dataset):\n",
    "    def __init__(self, x, y=None):\n",
    "        self.x = x\n",
    "        self.y = y\n",
    "    \n",
    "    def __len__(self):\n",
    "        return len(self.x)\n",
    "\n",
    "    def __getitem__(self, idx):\n",
    "        # добавить сюда prepare_shape()\n",
    "        if self.y is not None:\n",
    "            return self.x[idx], self.y[idx]\n",
    "        return self.x[idx]"
   ]
  },
  {
   "cell_type": "code",
   "execution_count": 11,
   "metadata": {},
   "outputs": [],
   "source": [
    "train_dset = EventDetectionDataset(x_tr, y_tr)\n",
    "val_dset = EventDetectionDataset(x_val, y_val)"
   ]
  },
  {
   "cell_type": "code",
   "execution_count": 12,
   "metadata": {},
   "outputs": [
    {
     "name": "stdout",
     "output_type": "stream",
     "text": [
      "40\n"
     ]
    },
    {
     "data": {
      "image/png": "[encoded data removed]",
      "text/plain": [
       "<Figure size 720x288 with 2 Axes>"
      ]
     },
     "metadata": {
      "needs_background": "light"
     },
     "output_type": "display_data"
    }
   ],
   "source": [
    "sample_x, sample_y = val_dset[2]\n",
    "print(sample_y)\n",
    "# print(id_to_label[sample_y])\n",
    "plt.figure(figsize=(10, 4))\n",
    "colors = 'viridis'\n",
    "specshow(sample_x[0], y_axis='mel', fmax=sample_rate//2, x_axis='time', cmap=colors)\n",
    "plt.colorbar(format='%+2.0f дБ')\n",
    "plt.title('Мелспектрограмма')\n",
    "plt.tight_layout()\n",
    "plt.show()"
   ]
  },
  {
   "cell_type": "code",
   "execution_count": 13,
   "metadata": {},
   "outputs": [],
   "source": [
    "from torch.utils.data import DataLoader\n",
    "\n",
    "train_loader = DataLoader(train_dset, batch_size=41, shuffle=True, num_workers=0)\n",
    "val_loader = DataLoader(val_dset, batch_size=41, shuffle=False, num_workers=0)"
   ]
  },
  {
   "cell_type": "code",
   "execution_count": 14,
   "metadata": {},
   "outputs": [],
   "source": [
    "from sklearn.metrics import accuracy_score"
   ]
  },
  {
   "cell_type": "code",
   "execution_count": null,
   "metadata": {},
   "outputs": [
    {
     "name": "stdout",
     "output_type": "stream",
     "text": [
      "epoch # 0\n"
     ]
    }
   ],
   "source": [
    "import torch.optim as optim\n",
    "n_epoch = 100\n",
    "criterion = nn.CrossEntropyLoss()\n",
    "network = DummyNetwork()\n",
    "# можно попробовать другой optimizer, тоже считается улучшением\n",
    "optimizer = optim.Adam(network.parameters(), lr=0.001)\n",
    "\n",
    "train_loss = []\n",
    "val_loss = []\n",
    "\n",
    "train_acc = []\n",
    "val_acc = []\n",
    "\n",
    "for e in range(n_epoch):\n",
    "    print('epoch #', e)\n",
    "    # train\n",
    "    loss_list = []\n",
    "    outputs = []\n",
    "    targets = []\n",
    "    for i_batch, sample_batched in enumerate(train_loader):\n",
    "        x, y = sample_batched\n",
    "        optimizer.zero_grad()\n",
    "\n",
    "        output = network(x)\n",
    "        outputs.append(output.detach().numpy().argmax(axis=1))\n",
    "    \n",
    "        target = y\n",
    "        targets.append(target)\n",
    "        \n",
    "        loss = criterion(output, target.long())\n",
    "        loss_list.append(loss.item())\n",
    "        loss.backward()\n",
    "        optimizer.step()\n",
    "    y_true = np.hstack(targets)\n",
    "    y_pred = np.hstack(outputs)\n",
    "    acc = accuracy_score(y_true, y_pred)\n",
    "    train_loss.append(np.mean(loss_list))\n",
    "    train_acc.append(acc)\n",
    "    print('mean train loss:', train_loss[-1])\n",
    "    print('train accuracy:', acc)\n",
    "    \n",
    "    \n",
    "    loss_list = []\n",
    "    outputs = []\n",
    "    targets = []\n",
    "    with torch.no_grad():\n",
    "        for i_batch, sample_batched in enumerate(val_loader):\n",
    "            x, y = sample_batched\n",
    "#             optimizer.zero_grad()\n",
    "\n",
    "            output = network(x)\n",
    "            outputs.append(output.detach().numpy().argmax(axis=1))\n",
    "\n",
    "            target = y\n",
    "            targets.append(target)\n",
    "\n",
    "            loss = criterion(output, target.long())\n",
    "            loss_list.append(loss.item())\n",
    "#             loss.backward()\n",
    "#             optimizer.step()\n",
    "            \n",
    "        y_true = np.hstack(targets)\n",
    "        y_pred = np.hstack(outputs)\n",
    "        acc = accuracy_score(y_true, y_pred)\n",
    "        val_loss.append(np.mean(loss_list))\n",
    "        val_acc.append(acc)\n",
    "        print('mean val loss:', val_loss[-1])\n",
    "        print('val accuracy:', acc)"
   ]
  },
  {
   "cell_type": "code",
   "execution_count": 77,
   "metadata": {},
   "outputs": [
    {
     "data": {
      "image/png": "[encoded data removed]",
      "text/plain": [
       "<Figure size 432x288 with 1 Axes>"
      ]
     },
     "metadata": {
      "needs_background": "light"
     },
     "output_type": "display_data"
    },
    {
     "data": {
      "image/png": "[encoded data removed]",
      "text/plain": [
       "<Figure size 432x288 with 1 Axes>"
      ]
     },
     "metadata": {
      "needs_background": "light"
     },
     "output_type": "display_data"
    }
   ],
   "source": [
    "epochs = np.arange(1, n_epoch+1)\n",
    "\n",
    "axes = plt.gca()\n",
    "axes.set_ylim([0,max(max(train_loss), max(val_loss))+1])\n",
    "plt.plot(epochs, train_loss, 'r', label='train')\n",
    "plt.plot(epochs, val_loss, 'b', label='val')\n",
    "plt.title('loss')\n",
    "plt.xlabel('epoch number')\n",
    "plt.ylabel('loss value')\n",
    "plt.legend()\n",
    "plt.grid()\n",
    "plt.show()\n",
    "\n",
    "\n",
    "axes = plt.gca()\n",
    "axes.set_ylim([0,1])\n",
    "plt.plot(epochs, train_acc, 'r', label='train')\n",
    "plt.plot(epochs, val_acc, 'b', label='val')\n",
    "plt.title('accuracy')\n",
    "plt.xlabel('epoch number')\n",
    "plt.ylabel('accuracy value')\n",
    "plt.legend()\n",
    "plt.grid()\n",
    "plt.show()"
   ]
  },
  {
   "cell_type": "code",
   "execution_count": null,
   "metadata": {},
   "outputs": [],
   "source": []
  }
 ],
 "metadata": {
  "kernelspec": {
   "display_name": "Python 3",
   "language": "python",
   "name": "python3"
  },
  "language_info": {
   "codemirror_mode": {
    "name": "ipython",
    "version": 3
   },
   "file_extension": ".py",
   "mimetype": "text/x-python",
   "name": "python",
   "nbconvert_exporter": "python",
   "pygments_lexer": "ipython3",
   "version": "3.7.7"
  }
 },
 "nbformat": 4,
 "nbformat_minor": 4
}
